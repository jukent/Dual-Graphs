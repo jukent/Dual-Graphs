{
 "cells": [
  {
   "cell_type": "code",
   "execution_count": 36,
   "metadata": {},
   "outputs": [],
   "source": [
    "import numpy as np\n",
    "import matplotlib.pyplot as plt"
   ]
  },
  {
   "cell_type": "code",
   "execution_count": 32,
   "metadata": {},
   "outputs": [],
   "source": [
    "def find_vertices(nodes):\n",
    "    angle = np.pi*2 / nodes\n",
    "    x_poly= [np.cos(n*angle) for n in np.arange(nodes)]\n",
    "    y_poly = [np.sin(n*angle) for n in np.arange(nodes)]\n",
    "    x_poly.append(x_poly[0]) ; y_poly.append(y_poly[0])\n",
    "    poly_verts={'x':x_poly,'y':y_poly}\n",
    "    return poly_verts"
   ]
  },
  {
   "cell_type": "code",
   "execution_count": 33,
   "metadata": {},
   "outputs": [],
   "source": [
    "def star_reorder_vertices(nodes,poly_verts):\n",
    "    x_star=[]; y_star=[]\n",
    "    a=int(nodes/2)\n",
    "    m=0 \n",
    "    if nodes%2==1:  \n",
    "        for i in range(nodes+1): \n",
    "            if m>nodes: m=m-nodes\n",
    "            x_star.append(poly_verts['x'][m])\n",
    "            y_star.append(poly_verts['y'][m])\n",
    "            m=m+a\n",
    "    elif nodes==4:\n",
    "        x_star = [poly_verts['x'][0],poly_verts['x'][2],poly_verts['x'][1],poly_verts['x'][3]]\n",
    "        y_star = [poly_verts['y'][0],poly_verts['y'][2],poly_verts['y'][1],poly_verts['y'][3]]\n",
    "    elif nodes==6:\n",
    "        x_star = [poly_verts['x'][0],poly_verts['x'][2],poly_verts['x'][4],poly_verts['x'][6],poly_verts['x'][1],poly_verts['x'][3],poly_verts['x'][5],poly_verts['x'][1]]\n",
    "        y_star = [poly_verts['y'][0],poly_verts['y'][2],poly_verts['y'][4],poly_verts['y'][6],poly_verts['y'][1],poly_verts['y'][3],poly_verts['y'][5],poly_verts['y'][1]]\n",
    "    else:\n",
    "        if a%2==1: b = int(a+2)\n",
    "        else: b = int(a+1)\n",
    "        for i in range(nodes+1): \n",
    "            if m>nodes: m=m-nodes\n",
    "            x_star.append(poly_verts['x'][m])\n",
    "            y_star.append(poly_verts['y'][m])           \n",
    "            m=m+b\n",
    "    star_verts={'x':x_star,'y':y_star}\n",
    "    return star_verts\n",
    "\n",
    "#Fix hard coding for n=4 and n=6"
   ]
  },
  {
   "cell_type": "code",
   "execution_count": 34,
   "metadata": {},
   "outputs": [],
   "source": [
    "def plotting_graph1(nodes,poly_verts,star_verts):\n",
    "    plt.axes().set_aspect('equal')\n",
    "    plt.xlim([-1.1,1.1]) ; plt.ylim([-1.1,1.1])\n",
    "    #plt.scatter(poly_verts['x'],poly_verts['y'])\n",
    "    plt.plot(poly_verts['x'],poly_verts['y'])\n",
    "    plt.plot(star_verts['x'],star_verts['y'])\n",
    "    return;"
   ]
  },
  {
   "cell_type": "code",
   "execution_count": 37,
   "metadata": {},
   "outputs": [
    {
     "data": {
      "image/png": "[encoded data removed]",
      "text/plain": [
       "<Figure size 432x288 with 1 Axes>"
      ]
     },
     "metadata": {
      "needs_background": "light"
     },
     "output_type": "display_data"
    }
   ],
   "source": [
    "def make_graph1(nodes):\n",
    "    poly_verts = find_vertices(nodes)\n",
    "    star_verts=star_reorder_vertices(nodes,poly_verts)\n",
    "    plotting_graph1(nodes,poly_verts,star_verts)\n",
    "    return poly_verts,star_verts\n",
    "\n",
    "(poly_verts,star_verts)=make_graph1(8)"
   ]
  },
  {
   "cell_type": "code",
   "execution_count": 21,
   "metadata": {},
   "outputs": [],
   "source": [
    "class Point(object):\n",
    "    def __init__(self, x=0.0,y=0.0):\n",
    "        self.x = float(x)\n",
    "        self.y = float(y)\n",
    "\n",
    "    def __repr__(self):\n",
    "        coord = (self.x,self.y)\n",
    "        return coord\n",
    "\n",
    "    def __str__(self):\n",
    "        point_str = \"(%f,%f)\" % (self.x, self.y)\n",
    "        return point_str"
   ]
  },
  {
   "cell_type": "code",
   "execution_count": 72,
   "metadata": {},
   "outputs": [],
   "source": [
    "class Line(object):\n",
    "    def __init__(self, p1, p2):\n",
    "        self.p1 = Point(p1.x,p1.y)\n",
    "        self.p2 = Point(p2.x,p2.y)\n",
    "\n",
    "    def __str__(self):\n",
    "        x1,y1 = self.p1.x,self.p1.y\n",
    "        x2,y2 = self.p2.x,self.p2.y\n",
    "        line = \"((%f,%f),(%f,%f))\" % (x1,y1,x2,y2)\n",
    "        return line\n",
    "     \n",
    "    __repr__ = __str__\n",
    "    \n",
    "    def get_point(self,p):\n",
    "        if p==p1: return self.p1\n",
    "        elif p==p2: return self.p2\n",
    "    \n",
    "    def length(self):\n",
    "        dist_x = abs(self.p2.x - self.p1.x)\n",
    "        dist_y = abs(self.p2.y - self.p1.y)\n",
    "        dist_x_squared = dist_x ** 2\n",
    "        dist_y_squared = dist_y ** 2\n",
    "        line_length = math.sqrt(dist_x_squared + dist_y_squared)\n",
    "        return line_length\n",
    "\n",
    "    def slope(self):\n",
    "        if ((self.p2.x - self.p1.x) ==0):\n",
    "            line_slope = 'NaN'\n",
    "        else:\n",
    "            dist_y = self.p2.y - self.p1.y\n",
    "            dist_x = self.p2.x - self.p1.x\n",
    "            line_slope = dist_y/dist_x\n",
    "        return line_slope"
   ]
  },
  {
   "cell_type": "code",
   "execution_count": 77,
   "metadata": {},
   "outputs": [
    {
     "name": "stdout",
     "output_type": "stream",
     "text": [
      "(6.000000,0.000000)\n"
     ]
    }
   ],
   "source": [
    "#Test Point Class\n",
    "a = Point(0,0)\n",
    "a.x = 6\n",
    "print(a)"
   ]
  },
  {
   "cell_type": "code",
   "execution_count": 78,
   "metadata": {},
   "outputs": [],
   "source": [
    "#Test Line Class\n",
    "b = Point(4,2)\n",
    "c = Line(a,b)"
   ]
  },
  {
   "cell_type": "code",
   "execution_count": 80,
   "metadata": {},
   "outputs": [],
   "source": [
    "#This doesn't work yet - want to get point back from line (for easy plotting)\n",
    "#c.get_point(p1)"
   ]
  },
  {
   "cell_type": "code",
   "execution_count": null,
   "metadata": {},
   "outputs": [],
   "source": []
  },
  {
   "cell_type": "code",
   "execution_count": null,
   "metadata": {},
   "outputs": [],
   "source": []
  }
 ],
 "metadata": {
  "kernelspec": {
   "display_name": "Python 3",
   "language": "python",
   "name": "python3"
  },
  "language_info": {
   "codemirror_mode": {
    "name": "ipython",
    "version": 3
   },
   "file_extension": ".py",
   "mimetype": "text/x-python",
   "name": "python",
   "nbconvert_exporter": "python",
   "pygments_lexer": "ipython3",
   "version": "3.7.1"
  }
 },
 "nbformat": 4,
 "nbformat_minor": 2
}
