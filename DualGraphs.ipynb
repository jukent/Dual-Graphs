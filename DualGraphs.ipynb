{
 "cells": [
  {
   "cell_type": "code",
   "execution_count": 422,
   "metadata": {},
   "outputs": [],
   "source": [
    "import numpy as np\n",
    "import matplotlib.pyplot as plt"
   ]
  },
  {
   "cell_type": "code",
   "execution_count": 423,
   "metadata": {},
   "outputs": [],
   "source": [
    "def find_vertices(nodes):\n",
    "    angle = np.pi*2 / nodes\n",
    "    x_poly= [np.cos(n*angle) for n in np.arange(nodes)]\n",
    "    y_poly = [np.sin(n*angle) for n in np.arange(nodes)]\n",
    "    x_poly.append(x_poly[0]) ; y_poly.append(y_poly[0])\n",
    "    poly_verts={'x':x_poly,'y':y_poly}\n",
    "    return poly_verts"
   ]
  },
  {
   "cell_type": "code",
   "execution_count": 429,
   "metadata": {},
   "outputs": [],
   "source": [
    "def star_reorder_vertices(nodes,poly_verts):\n",
    "    x_star=[]; y_star=[]\n",
    "    a=int(nodes/2)\n",
    "    m=0 \n",
    "    if nodes%2==1:  \n",
    "        for i in range(nodes+1): \n",
    "            if m>nodes: m=m-nodes\n",
    "            x_star.append(poly_verts['x'][m])\n",
    "            y_star.append(poly_verts['y'][m])\n",
    "            m=m+a\n",
    "    elif nodes==4:\n",
    "        x_star = [poly_verts['x'][0],poly_verts['x'][2],poly_verts['x'][1],poly_verts['x'][3]]\n",
    "        y_star = [poly_verts['y'][0],poly_verts['y'][2],poly_verts['y'][1],poly_verts['y'][3]]\n",
    "    elif nodes==6:\n",
    "        x_star = [poly_verts['x'][0],poly_verts['x'][2],poly_verts['x'][4],poly_verts['x'][6],poly_verts['x'][1],poly_verts['x'][3],poly_verts['x'][5],poly_verts['x'][1]]\n",
    "        y_star = [poly_verts['y'][0],poly_verts['y'][2],poly_verts['y'][4],poly_verts['y'][6],poly_verts['y'][1],poly_verts['y'][3],poly_verts['y'][5],poly_verts['y'][1]]\n",
    "    else:\n",
    "        if a%2==1: b = int(a+2)\n",
    "        else: b = int(a+1)\n",
    "        for i in range(nodes+1): \n",
    "            if m>nodes: m=m-nodes\n",
    "            x_star.append(poly_verts['x'][m])\n",
    "            y_star.append(poly_verts['y'][m])           \n",
    "            m=m+b\n",
    "    star_verts={'x':x_star,'y':y_star}\n",
    "    return star_verts\n",
    "\n",
    "#Fix hard coding for n=4 and n=6"
   ]
  },
  {
   "cell_type": "code",
   "execution_count": 430,
   "metadata": {},
   "outputs": [],
   "source": [
    "def plotting_graph1(nodes,poly_verts,star_verts):\n",
    "    plt.axes().set_aspect('equal')\n",
    "    plt.xlim([-1.1,1.1]) ; plt.ylim([-1.1,1.1])\n",
    "    #plt.scatter(poly_verts['x'],poly_verts['y'])\n",
    "    plt.plot(poly_verts['x'],poly_verts['y'])\n",
    "    plt.plot(star_verts['x'],star_verts['y'])\n",
    "    return;"
   ]
  },
  {
   "cell_type": "code",
   "execution_count": 438,
   "metadata": {},
   "outputs": [
    {
     "data": {
      "image/png": "[encoded data removed]",
      "text/plain": [
       "<Figure size 432x288 with 1 Axes>"
      ]
     },
     "metadata": {
      "needs_background": "light"
     },
     "output_type": "display_data"
    }
   ],
   "source": [
    "def make_graph1(nodes):\n",
    "    poly_verts = find_vertices(nodes)\n",
    "    star_verts=star_reorder_vertices(nodes,poly_verts)\n",
    "    plotting_graph1(nodes,poly_verts,star_verts)\n",
    "    return poly_verts,star_verts\n",
    "\n",
    "(poly_verts,star_verts)=make_graph1(5)"
   ]
  },
  {
   "cell_type": "code",
   "execution_count": null,
   "metadata": {},
   "outputs": [],
   "source": [
    "def identify_internal_polygons(poply_verts,star_verts):"
   ]
  },
  {
   "cell_type": "code",
   "execution_count": 439,
   "metadata": {},
   "outputs": [
    {
     "ename": "SyntaxError",
     "evalue": "invalid syntax (<ipython-input-439-874b0708eac5>, line 1)",
     "output_type": "error",
     "traceback": [
      "\u001b[0;36m  File \u001b[0;32m\"<ipython-input-439-874b0708eac5>\"\u001b[0;36m, line \u001b[0;32m1\u001b[0m\n\u001b[0;31m    def find_midpoints:\u001b[0m\n\u001b[0m                      ^\u001b[0m\n\u001b[0;31mSyntaxError\u001b[0m\u001b[0;31m:\u001b[0m invalid syntax\n"
     ]
    }
   ],
   "source": [
    "def find_midpoints:"
   ]
  },
  {
   "cell_type": "code",
   "execution_count": null,
   "metadata": {},
   "outputs": [],
   "source": [
    ";def plotting_dual_graph"
   ]
  }
 ],
 "metadata": {
  "kernelspec": {
   "display_name": "Python 3",
   "language": "python",
   "name": "python3"
  },
  "language_info": {
   "codemirror_mode": {
    "name": "ipython",
    "version": 3
   },
   "file_extension": ".py",
   "mimetype": "text/x-python",
   "name": "python",
   "nbconvert_exporter": "python",
   "pygments_lexer": "ipython3",
   "version": "3.7.1"
  }
 },
 "nbformat": 4,
 "nbformat_minor": 2
}
